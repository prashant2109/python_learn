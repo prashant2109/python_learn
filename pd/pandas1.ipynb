{
 "cells": [
  {
   "cell_type": "code",
   "execution_count": 1,
   "metadata": {},
   "outputs": [],
   "source": [
    "import pandas as pd"
   ]
  },
  {
   "cell_type": "code",
   "execution_count": 3,
   "metadata": {},
   "outputs": [
    {
     "name": "stdout",
     "output_type": "stream",
     "text": [
      "C:\\Users\\user\\Desktop\\Python\\pandas\n"
     ]
    }
   ],
   "source": [
    "import os\n",
    "print(os.getcwd())"
   ]
  },
  {
   "cell_type": "code",
   "execution_count": 4,
   "metadata": {},
   "outputs": [],
   "source": [
    "df = pd.read_csv('data1.csv')"
   ]
  },
  {
   "cell_type": "code",
   "execution_count": 6,
   "metadata": {},
   "outputs": [
    {
     "data": {
      "text/html": [
       "<div>\n",
       "<style scoped>\n",
       "    .dataframe tbody tr th:only-of-type {\n",
       "        vertical-align: middle;\n",
       "    }\n",
       "\n",
       "    .dataframe tbody tr th {\n",
       "        vertical-align: top;\n",
       "    }\n",
       "\n",
       "    .dataframe thead th {\n",
       "        text-align: right;\n",
       "    }\n",
       "</style>\n",
       "<table border=\"1\" class=\"dataframe\">\n",
       "  <thead>\n",
       "    <tr style=\"text-align: right;\">\n",
       "      <th></th>\n",
       "      <th>User Name</th>\n",
       "      <th>First Name</th>\n",
       "      <th>Last Name</th>\n",
       "      <th>Display Name</th>\n",
       "      <th>Job Title</th>\n",
       "      <th>Department</th>\n",
       "      <th>Office Number</th>\n",
       "      <th>Office Phone</th>\n",
       "      <th>Mobile Phone</th>\n",
       "      <th>Fax</th>\n",
       "      <th>Address</th>\n",
       "      <th>City</th>\n",
       "      <th>State or Province</th>\n",
       "      <th>ZIP or Postal Code</th>\n",
       "      <th>Country or Region</th>\n",
       "    </tr>\n",
       "  </thead>\n",
       "  <tbody>\n",
       "    <tr>\n",
       "      <th>0</th>\n",
       "      <td>chris@contoso.com</td>\n",
       "      <td>Chris</td>\n",
       "      <td>Green</td>\n",
       "      <td>Chris Green</td>\n",
       "      <td>IT Manager</td>\n",
       "      <td>Information Technology</td>\n",
       "      <td>123451</td>\n",
       "      <td>123-555-1211</td>\n",
       "      <td>123-555-6641</td>\n",
       "      <td>123-555-9821</td>\n",
       "      <td>1 Microsoft way</td>\n",
       "      <td>Redmond</td>\n",
       "      <td>Wa</td>\n",
       "      <td>98052</td>\n",
       "      <td>United States</td>\n",
       "    </tr>\n",
       "    <tr>\n",
       "      <th>1</th>\n",
       "      <td>ben@contoso.com</td>\n",
       "      <td>Ben</td>\n",
       "      <td>Andrews</td>\n",
       "      <td>Ben Andrews</td>\n",
       "      <td>IT Manager</td>\n",
       "      <td>Information Technology</td>\n",
       "      <td>123452</td>\n",
       "      <td>123-555-1212</td>\n",
       "      <td>123-555-6642</td>\n",
       "      <td>123-555-9822</td>\n",
       "      <td>1 Microsoft way</td>\n",
       "      <td>Redmond</td>\n",
       "      <td>Wa</td>\n",
       "      <td>98052</td>\n",
       "      <td>United States</td>\n",
       "    </tr>\n",
       "    <tr>\n",
       "      <th>2</th>\n",
       "      <td>david@contoso.com</td>\n",
       "      <td>David</td>\n",
       "      <td>Longmuir</td>\n",
       "      <td>David Longmuir</td>\n",
       "      <td>IT Manager</td>\n",
       "      <td>Information Technology</td>\n",
       "      <td>123453</td>\n",
       "      <td>123-555-1213</td>\n",
       "      <td>123-555-6643</td>\n",
       "      <td>123-555-9823</td>\n",
       "      <td>1 Microsoft way</td>\n",
       "      <td>Redmond</td>\n",
       "      <td>Wa</td>\n",
       "      <td>98052</td>\n",
       "      <td>United States</td>\n",
       "    </tr>\n",
       "    <tr>\n",
       "      <th>3</th>\n",
       "      <td>cynthia@contoso.com</td>\n",
       "      <td>Cynthia</td>\n",
       "      <td>Carey</td>\n",
       "      <td>Cynthia Carey</td>\n",
       "      <td>IT Manager</td>\n",
       "      <td>Information Technology</td>\n",
       "      <td>123454</td>\n",
       "      <td>123-555-1214</td>\n",
       "      <td>123-555-6644</td>\n",
       "      <td>123-555-9824</td>\n",
       "      <td>1 Microsoft way</td>\n",
       "      <td>Redmond</td>\n",
       "      <td>Wa</td>\n",
       "      <td>98052</td>\n",
       "      <td>United States</td>\n",
       "    </tr>\n",
       "    <tr>\n",
       "      <th>4</th>\n",
       "      <td>melissa@contoso.com</td>\n",
       "      <td>Melissa</td>\n",
       "      <td>MacBeth</td>\n",
       "      <td>Melissa MacBeth</td>\n",
       "      <td>IT Manager</td>\n",
       "      <td>Information Technology</td>\n",
       "      <td>123455</td>\n",
       "      <td>123-555-1215</td>\n",
       "      <td>123-555-6645</td>\n",
       "      <td>123-555-9825</td>\n",
       "      <td>1 Microsoft way</td>\n",
       "      <td>Redmond</td>\n",
       "      <td>Wa</td>\n",
       "      <td>98052</td>\n",
       "      <td>United States</td>\n",
       "    </tr>\n",
       "  </tbody>\n",
       "</table>\n",
       "</div>"
      ],
      "text/plain": [
       "             User Name First Name Last Name     Display Name   Job Title  \\\n",
       "0    chris@contoso.com      Chris     Green      Chris Green  IT Manager   \n",
       "1      ben@contoso.com        Ben   Andrews      Ben Andrews  IT Manager   \n",
       "2    david@contoso.com      David  Longmuir   David Longmuir  IT Manager   \n",
       "3  cynthia@contoso.com    Cynthia     Carey    Cynthia Carey  IT Manager   \n",
       "4  melissa@contoso.com    Melissa   MacBeth  Melissa MacBeth  IT Manager   \n",
       "\n",
       "               Department  Office Number  Office Phone  Mobile Phone  \\\n",
       "0  Information Technology         123451  123-555-1211  123-555-6641   \n",
       "1  Information Technology         123452  123-555-1212  123-555-6642   \n",
       "2  Information Technology         123453  123-555-1213  123-555-6643   \n",
       "3  Information Technology         123454  123-555-1214  123-555-6644   \n",
       "4  Information Technology         123455  123-555-1215  123-555-6645   \n",
       "\n",
       "            Fax          Address     City State or Province  \\\n",
       "0  123-555-9821  1 Microsoft way  Redmond                Wa   \n",
       "1  123-555-9822  1 Microsoft way  Redmond                Wa   \n",
       "2  123-555-9823  1 Microsoft way  Redmond                Wa   \n",
       "3  123-555-9824  1 Microsoft way  Redmond                Wa   \n",
       "4  123-555-9825  1 Microsoft way  Redmond                Wa   \n",
       "\n",
       "   ZIP or Postal Code Country or Region  \n",
       "0               98052     United States  \n",
       "1               98052     United States  \n",
       "2               98052     United States  \n",
       "3               98052     United States  \n",
       "4               98052     United States  "
      ]
     },
     "execution_count": 6,
     "metadata": {},
     "output_type": "execute_result"
    }
   ],
   "source": [
    "df"
   ]
  },
  {
   "cell_type": "code",
   "execution_count": 7,
   "metadata": {},
   "outputs": [
    {
     "data": {
      "text/plain": [
       "(5, 15)"
      ]
     },
     "execution_count": 7,
     "metadata": {},
     "output_type": "execute_result"
    }
   ],
   "source": [
    "df.shape"
   ]
  },
  {
   "cell_type": "code",
   "execution_count": 8,
   "metadata": {},
   "outputs": [
    {
     "name": "stdout",
     "output_type": "stream",
     "text": [
      "<class 'pandas.core.frame.DataFrame'>\n",
      "RangeIndex: 5 entries, 0 to 4\n",
      "Data columns (total 15 columns):\n",
      " #   Column              Non-Null Count  Dtype \n",
      "---  ------              --------------  ----- \n",
      " 0   User Name           5 non-null      object\n",
      " 1   First Name          5 non-null      object\n",
      " 2   Last Name           5 non-null      object\n",
      " 3   Display Name        5 non-null      object\n",
      " 4   Job Title           5 non-null      object\n",
      " 5   Department          5 non-null      object\n",
      " 6   Office Number       5 non-null      int64 \n",
      " 7   Office Phone        5 non-null      object\n",
      " 8   Mobile Phone        5 non-null      object\n",
      " 9   Fax                 5 non-null      object\n",
      " 10  Address             5 non-null      object\n",
      " 11  City                5 non-null      object\n",
      " 12  State or Province   5 non-null      object\n",
      " 13  ZIP or Postal Code  5 non-null      int64 \n",
      " 14  Country or Region   5 non-null      object\n",
      "dtypes: int64(2), object(13)\n",
      "memory usage: 728.0+ bytes\n"
     ]
    }
   ],
   "source": [
    "df.info()"
   ]
  },
  {
   "cell_type": "code",
   "execution_count": null,
   "metadata": {},
   "outputs": [],
   "source": []
  }
 ],
 "metadata": {
  "kernelspec": {
   "display_name": "Python 3",
   "language": "python",
   "name": "python3"
  },
  "language_info": {
   "codemirror_mode": {
    "name": "ipython",
    "version": 3
   },
   "file_extension": ".py",
   "mimetype": "text/x-python",
   "name": "python",
   "nbconvert_exporter": "python",
   "pygments_lexer": "ipython3",
   "version": "3.7.6"
  }
 },
 "nbformat": 4,
 "nbformat_minor": 4
}
